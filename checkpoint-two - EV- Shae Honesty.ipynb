{
 "cells": [
  {
   "attachments": {},
   "cell_type": "markdown",
   "metadata": {
    "azdata_cell_guid": "151601c9-ca7a-412e-af80-c62a87e0837e"
   },
   "source": [
    "# Checkpoint Two: Exploratory Data Analysis\n",
    "\n",
    "Now that your chosen dataset is approved, it is time to start working on your analysis. Use this notebook to perform your EDA and make notes where directed to as you work.\n",
    "\n",
    "## Getting Started\n",
    "\n",
    "Since we have not provided your dataset for you, you will need to load the necessary files in this repository. Make sure to include a link back to the original dataset here as well.\n",
    "\n",
    "My dataset:\n",
    "\n",
    "Your first task in EDA is to import necessary libraries and create a dataframe(s). Make note in the form of code comments of what your thought process is as you work on this setup task."
   ]
  },
  {
   "cell_type": "markdown",
   "metadata": {},
   "source": [
    "Link to data set:\n",
    "\n",
    "Electric Vehicle Population Data\n",
    "\n",
    "https://catalog.data.gov/dataset/electric-vehicle-population-data "
   ]
  },
  {
   "cell_type": "code",
   "execution_count": 1,
   "metadata": {
    "azdata_cell_guid": "7b503e37-6df5-4433-acfb-678b1346db14"
   },
   "outputs": [],
   "source": [
    "# import libraries\n",
    "import pandas as pd\n",
    "import numpy as np\n",
    "import matplotlib.pyplot as plt\n"
   ]
  },
  {
   "cell_type": "code",
   "execution_count": 2,
   "metadata": {},
   "outputs": [],
   "source": [
    "# create dataframe\n",
    "# bring in dataset csv\n",
    "df_WAEV = pd.read_csv(r\"C:\\Users\\sqroo\\Desktop\\DA\\Final Project\\Electric_Vehicle_Population_Data (2).csv\")\n"
   ]
  },
  {
   "cell_type": "code",
   "execution_count": 3,
   "metadata": {},
   "outputs": [
    {
     "name": "stdout",
     "output_type": "stream",
     "text": [
      "<class 'pandas.core.frame.DataFrame'>\n",
      "RangeIndex: 210165 entries, 0 to 210164\n",
      "Data columns (total 17 columns):\n",
      " #   Column                                             Non-Null Count   Dtype  \n",
      "---  ------                                             --------------   -----  \n",
      " 0   VIN (1-10)                                         210165 non-null  object \n",
      " 1   County                                             210161 non-null  object \n",
      " 2   City                                               210161 non-null  object \n",
      " 3   State                                              210165 non-null  object \n",
      " 4   Postal Code                                        210161 non-null  float64\n",
      " 5   Model Year                                         210165 non-null  int64  \n",
      " 6   Make                                               210165 non-null  object \n",
      " 7   Model                                              210165 non-null  object \n",
      " 8   Electric Vehicle Type                              210165 non-null  object \n",
      " 9   Clean Alternative Fuel Vehicle (CAFV) Eligibility  210165 non-null  object \n",
      " 10  Electric Range                                     210160 non-null  float64\n",
      " 11  Base MSRP                                          210160 non-null  float64\n",
      " 12  Legislative District                               209720 non-null  float64\n",
      " 13  DOL Vehicle ID                                     210165 non-null  int64  \n",
      " 14  Vehicle Location                                   210155 non-null  object \n",
      " 15  Electric Utility                                   210161 non-null  object \n",
      " 16  2020 Census Tract                                  210161 non-null  float64\n",
      "dtypes: float64(5), int64(2), object(10)\n",
      "memory usage: 27.3+ MB\n"
     ]
    },
    {
     "data": {
      "text/html": [
       "<div>\n",
       "<style scoped>\n",
       "    .dataframe tbody tr th:only-of-type {\n",
       "        vertical-align: middle;\n",
       "    }\n",
       "\n",
       "    .dataframe tbody tr th {\n",
       "        vertical-align: top;\n",
       "    }\n",
       "\n",
       "    .dataframe thead th {\n",
       "        text-align: right;\n",
       "    }\n",
       "</style>\n",
       "<table border=\"1\" class=\"dataframe\">\n",
       "  <thead>\n",
       "    <tr style=\"text-align: right;\">\n",
       "      <th></th>\n",
       "      <th>VIN (1-10)</th>\n",
       "      <th>County</th>\n",
       "      <th>City</th>\n",
       "      <th>State</th>\n",
       "      <th>Postal Code</th>\n",
       "      <th>Model Year</th>\n",
       "      <th>Make</th>\n",
       "      <th>Model</th>\n",
       "      <th>Electric Vehicle Type</th>\n",
       "      <th>Clean Alternative Fuel Vehicle (CAFV) Eligibility</th>\n",
       "      <th>Electric Range</th>\n",
       "      <th>Base MSRP</th>\n",
       "      <th>Legislative District</th>\n",
       "      <th>DOL Vehicle ID</th>\n",
       "      <th>Vehicle Location</th>\n",
       "      <th>Electric Utility</th>\n",
       "      <th>2020 Census Tract</th>\n",
       "    </tr>\n",
       "  </thead>\n",
       "  <tbody>\n",
       "    <tr>\n",
       "      <th>0</th>\n",
       "      <td>5UXTA6C0XM</td>\n",
       "      <td>Kitsap</td>\n",
       "      <td>Seabeck</td>\n",
       "      <td>WA</td>\n",
       "      <td>98380.0</td>\n",
       "      <td>2021</td>\n",
       "      <td>BMW</td>\n",
       "      <td>X5</td>\n",
       "      <td>Plug-in Hybrid Electric Vehicle (PHEV)</td>\n",
       "      <td>Clean Alternative Fuel Vehicle Eligible</td>\n",
       "      <td>30.0</td>\n",
       "      <td>0.0</td>\n",
       "      <td>35.0</td>\n",
       "      <td>267929112</td>\n",
       "      <td>POINT (-122.8728334 47.5798304)</td>\n",
       "      <td>PUGET SOUND ENERGY INC</td>\n",
       "      <td>5.303509e+10</td>\n",
       "    </tr>\n",
       "    <tr>\n",
       "      <th>1</th>\n",
       "      <td>5YJ3E1EB1J</td>\n",
       "      <td>Kitsap</td>\n",
       "      <td>Poulsbo</td>\n",
       "      <td>WA</td>\n",
       "      <td>98370.0</td>\n",
       "      <td>2018</td>\n",
       "      <td>TESLA</td>\n",
       "      <td>MODEL 3</td>\n",
       "      <td>Battery Electric Vehicle (BEV)</td>\n",
       "      <td>Clean Alternative Fuel Vehicle Eligible</td>\n",
       "      <td>215.0</td>\n",
       "      <td>0.0</td>\n",
       "      <td>23.0</td>\n",
       "      <td>475911439</td>\n",
       "      <td>POINT (-122.6368884 47.7469547)</td>\n",
       "      <td>PUGET SOUND ENERGY INC</td>\n",
       "      <td>5.303509e+10</td>\n",
       "    </tr>\n",
       "    <tr>\n",
       "      <th>2</th>\n",
       "      <td>WP0AD2A73G</td>\n",
       "      <td>Snohomish</td>\n",
       "      <td>Bothell</td>\n",
       "      <td>WA</td>\n",
       "      <td>98012.0</td>\n",
       "      <td>2016</td>\n",
       "      <td>PORSCHE</td>\n",
       "      <td>PANAMERA</td>\n",
       "      <td>Plug-in Hybrid Electric Vehicle (PHEV)</td>\n",
       "      <td>Not eligible due to low battery range</td>\n",
       "      <td>15.0</td>\n",
       "      <td>0.0</td>\n",
       "      <td>1.0</td>\n",
       "      <td>101971278</td>\n",
       "      <td>POINT (-122.206146 47.839957)</td>\n",
       "      <td>PUGET SOUND ENERGY INC</td>\n",
       "      <td>5.306105e+10</td>\n",
       "    </tr>\n",
       "    <tr>\n",
       "      <th>3</th>\n",
       "      <td>5YJ3E1EB5J</td>\n",
       "      <td>Kitsap</td>\n",
       "      <td>Bremerton</td>\n",
       "      <td>WA</td>\n",
       "      <td>98310.0</td>\n",
       "      <td>2018</td>\n",
       "      <td>TESLA</td>\n",
       "      <td>MODEL 3</td>\n",
       "      <td>Battery Electric Vehicle (BEV)</td>\n",
       "      <td>Clean Alternative Fuel Vehicle Eligible</td>\n",
       "      <td>215.0</td>\n",
       "      <td>0.0</td>\n",
       "      <td>23.0</td>\n",
       "      <td>474363746</td>\n",
       "      <td>POINT (-122.6231895 47.5930874)</td>\n",
       "      <td>PUGET SOUND ENERGY INC</td>\n",
       "      <td>5.303508e+10</td>\n",
       "    </tr>\n",
       "    <tr>\n",
       "      <th>4</th>\n",
       "      <td>1N4AZ1CP3K</td>\n",
       "      <td>King</td>\n",
       "      <td>Redmond</td>\n",
       "      <td>WA</td>\n",
       "      <td>98052.0</td>\n",
       "      <td>2019</td>\n",
       "      <td>NISSAN</td>\n",
       "      <td>LEAF</td>\n",
       "      <td>Battery Electric Vehicle (BEV)</td>\n",
       "      <td>Clean Alternative Fuel Vehicle Eligible</td>\n",
       "      <td>150.0</td>\n",
       "      <td>0.0</td>\n",
       "      <td>45.0</td>\n",
       "      <td>476346482</td>\n",
       "      <td>POINT (-122.13158 47.67858)</td>\n",
       "      <td>PUGET SOUND ENERGY INC||CITY OF TACOMA - (WA)</td>\n",
       "      <td>5.303303e+10</td>\n",
       "    </tr>\n",
       "  </tbody>\n",
       "</table>\n",
       "</div>"
      ],
      "text/plain": [
       "   VIN (1-10)     County       City State  Postal Code  Model Year     Make  \\\n",
       "0  5UXTA6C0XM     Kitsap    Seabeck    WA      98380.0        2021      BMW   \n",
       "1  5YJ3E1EB1J     Kitsap    Poulsbo    WA      98370.0        2018    TESLA   \n",
       "2  WP0AD2A73G  Snohomish    Bothell    WA      98012.0        2016  PORSCHE   \n",
       "3  5YJ3E1EB5J     Kitsap  Bremerton    WA      98310.0        2018    TESLA   \n",
       "4  1N4AZ1CP3K       King    Redmond    WA      98052.0        2019   NISSAN   \n",
       "\n",
       "      Model                   Electric Vehicle Type  \\\n",
       "0        X5  Plug-in Hybrid Electric Vehicle (PHEV)   \n",
       "1   MODEL 3          Battery Electric Vehicle (BEV)   \n",
       "2  PANAMERA  Plug-in Hybrid Electric Vehicle (PHEV)   \n",
       "3   MODEL 3          Battery Electric Vehicle (BEV)   \n",
       "4      LEAF          Battery Electric Vehicle (BEV)   \n",
       "\n",
       "  Clean Alternative Fuel Vehicle (CAFV) Eligibility  Electric Range  \\\n",
       "0           Clean Alternative Fuel Vehicle Eligible            30.0   \n",
       "1           Clean Alternative Fuel Vehicle Eligible           215.0   \n",
       "2             Not eligible due to low battery range            15.0   \n",
       "3           Clean Alternative Fuel Vehicle Eligible           215.0   \n",
       "4           Clean Alternative Fuel Vehicle Eligible           150.0   \n",
       "\n",
       "   Base MSRP  Legislative District  DOL Vehicle ID  \\\n",
       "0        0.0                  35.0       267929112   \n",
       "1        0.0                  23.0       475911439   \n",
       "2        0.0                   1.0       101971278   \n",
       "3        0.0                  23.0       474363746   \n",
       "4        0.0                  45.0       476346482   \n",
       "\n",
       "                  Vehicle Location  \\\n",
       "0  POINT (-122.8728334 47.5798304)   \n",
       "1  POINT (-122.6368884 47.7469547)   \n",
       "2    POINT (-122.206146 47.839957)   \n",
       "3  POINT (-122.6231895 47.5930874)   \n",
       "4      POINT (-122.13158 47.67858)   \n",
       "\n",
       "                                Electric Utility  2020 Census Tract  \n",
       "0                         PUGET SOUND ENERGY INC       5.303509e+10  \n",
       "1                         PUGET SOUND ENERGY INC       5.303509e+10  \n",
       "2                         PUGET SOUND ENERGY INC       5.306105e+10  \n",
       "3                         PUGET SOUND ENERGY INC       5.303508e+10  \n",
       "4  PUGET SOUND ENERGY INC||CITY OF TACOMA - (WA)       5.303303e+10  "
      ]
     },
     "execution_count": 3,
     "metadata": {},
     "output_type": "execute_result"
    }
   ],
   "source": [
    "# VIEW info from dataset\n",
    "df_WAEV.describe\n",
    "df_WAEV.info()\n",
    "df_WAEV.head()"
   ]
  },
  {
   "cell_type": "code",
   "execution_count": 4,
   "metadata": {},
   "outputs": [
    {
     "name": "stdout",
     "output_type": "stream",
     "text": [
      "VIN (1-10)                                             0\n",
      "County                                                 4\n",
      "City                                                   4\n",
      "State                                                  0\n",
      "Postal Code                                            4\n",
      "Model Year                                             0\n",
      "Make                                                   0\n",
      "Model                                                  0\n",
      "Electric Vehicle Type                                  0\n",
      "Clean Alternative Fuel Vehicle (CAFV) Eligibility      0\n",
      "Electric Range                                         5\n",
      "Base MSRP                                              5\n",
      "Legislative District                                 445\n",
      "DOL Vehicle ID                                         0\n",
      "Vehicle Location                                      10\n",
      "Electric Utility                                       4\n",
      "2020 Census Tract                                      4\n",
      "dtype: int64\n",
      "Numner of duplicated Columns 0\n"
     ]
    }
   ],
   "source": [
    "# check for null and duplicates\n",
    "WAEV_null_counts = df_WAEV.isnull().sum()\n",
    "print(WAEV_null_counts)\n",
    "WAEV_dups =df_WAEV.duplicated().sum()\n",
    "print('Numner of duplicated Columns', WAEV_dups)"
   ]
  },
  {
   "cell_type": "code",
   "execution_count": 5,
   "metadata": {},
   "outputs": [
    {
     "name": "stdout",
     "output_type": "stream",
     "text": [
      "Index(['VIN (1-10)', 'County', 'City', 'State', 'Postal Code', 'Model Year',\n",
      "       'Make', 'Model', 'Electric Vehicle Type',\n",
      "       'Clean Alternative Fuel Vehicle (CAFV) Eligibility', 'Electric Range',\n",
      "       'Base MSRP', 'Legislative District', 'DOL Vehicle ID',\n",
      "       'Vehicle Location', 'Electric Utility', '2020 Census Tract'],\n",
      "      dtype='object')\n"
     ]
    }
   ],
   "source": [
    "# delete unnecessaray columns\n",
    "#deleteing permission column as every participant gave consent and is irrelevant to out findings\n",
    "# cols_df_WAEV = df_WAEV.drop(columns=['VIN (1-10)', 'Legislative District', 'DOL Vehicle ID', 'Base MSRP'])\n",
    "# # checking deleted columns\n",
    "cols_df_WAEV = df_WAEV.columns\n",
    "print(cols_df_WAEV)"
   ]
  },
  {
   "attachments": {},
   "cell_type": "markdown",
   "metadata": {
    "azdata_cell_guid": "129ce836-524b-4ea8-b394-a959f9308d6a"
   },
   "source": [
    "## Get to Know the Numbers\n",
    "\n",
    "Now that you have everything setup, put any code that you use to get to know the dataframe and its rows and columns better in the cell below. You can use whatever techniques you like, except for visualizations. You will put those in a separate section.\n",
    "\n",
    "When working on your code, make sure to leave comments so that your mentors can understand your thought process."
   ]
  },
  {
   "cell_type": "code",
   "execution_count": null,
   "metadata": {},
   "outputs": [
    {
     "name": "stdout",
     "output_type": "stream",
     "text": [
      "State\n",
      "WA    209720\n",
      "CA       113\n",
      "VA        60\n",
      "MD        37\n",
      "TX        28\n",
      "NC        19\n",
      "CO        17\n",
      "FL        12\n",
      "GA        10\n",
      "IL        10\n",
      "AZ         9\n",
      "AL         9\n",
      "CT         8\n",
      "MO         7\n",
      "NJ         7\n",
      "NV         7\n",
      "NY         7\n",
      "SC         6\n",
      "OR         6\n",
      "MI         6\n",
      "HI         6\n",
      "ID         5\n",
      "KY         5\n",
      "UT         4\n",
      "OH         4\n",
      "MA         4\n",
      "IN         4\n",
      "KS         3\n",
      "AR         3\n",
      "DC         3\n",
      "RI         3\n",
      "PA         3\n",
      "LA         3\n",
      "BC         2\n",
      "DE         2\n",
      "NM         2\n",
      "IA         1\n",
      "AK         1\n",
      "AE         1\n",
      "NE         1\n",
      "NH         1\n",
      "MN         1\n",
      "NS         1\n",
      "OK         1\n",
      "TN         1\n",
      "WI         1\n",
      "WY         1\n",
      "Name: count, dtype: int64\n"
     ]
    }
   ],
   "source": [
    "# states count\n",
    "EV_state_count = df_WAEV.value_counts('State')\n",
    "print(EV_state_count)\n",
    "# Most states were originally licesned in the state of Washington but there are others that were originally registered in other states. "
   ]
  },
  {
   "cell_type": "code",
   "execution_count": null,
   "metadata": {
    "azdata_cell_guid": "0ca2d318-f6e8-43ef-a33e-5304d24d928d",
    "tags": []
   },
   "outputs": [
    {
     "name": "stdout",
     "output_type": "stream",
     "text": [
      "Electric Vehicle Type\n",
      "Battery Electric Vehicle (BEV)            165554\n",
      "Plug-in Hybrid Electric Vehicle (PHEV)     44611\n",
      "Name: count, dtype: int64\n"
     ]
    }
   ],
   "source": [
    "# count of hours per day\n",
    "EV_type_count = df_WAEV.value_counts('Electric Vehicle Type')\n",
    "print(EV_type_count)"
   ]
  },
  {
   "attachments": {},
   "cell_type": "markdown",
   "metadata": {
    "azdata_cell_guid": "d45060f3-97bc-484a-9ef4-66145bbe9427"
   },
   "source": [
    "## Visualize\n",
    "\n",
    "Create any visualizations for your EDA here. Make note in the form of code comments of what your thought process is for your visualizations."
   ]
  },
  {
   "cell_type": "code",
   "execution_count": null,
   "metadata": {
    "azdata_cell_guid": "cd64bab1-db4c-4295-820d-c6464b653a3e"
   },
   "outputs": [
    {
     "data": {
      "image/png": "[encoded data removed]",
      "text/plain": [
       "<Figure size 640x480 with 1 Axes>"
      ]
     },
     "metadata": {},
     "output_type": "display_data"
    }
   ],
   "source": [
    "# bar chart of electric vehicle type\n",
    "plt.bar(EV_type_count.index, EV_type_count.values, color='skyblue')\n",
    "plt.title('Counts of Electric Vehicle', fontsize=16)\n",
    "plt.xlabel('Electric Vehicle Type', fontsize=14)\n",
    "plt.ylabel('Count', fontsize=14)\n",
    "\n",
    "plt.tight_layout()\n",
    "plt.grid(axis='y') \n",
    "plt.show()\n",
    "\n"
   ]
  },
  {
   "cell_type": "markdown",
   "metadata": {
    "azdata_cell_guid": "d4931c0c-2c09-4ee1-95d4-73dd08c2f0a6"
   },
   "source": [
    "## Summarize Your Results\n",
    "\n",
    "With your EDA complete, answer the following questions.\n",
    "\n",
    "1. Was there anything surprising about your dataset? \n",
    "   \n",
    "    There wasn't anything particularly surprising about the data. \n",
    "\n",
    "\n",
    "    \n",
    "2. Do you have any concerns about your dataset? \n",
    "    \n",
    "    I am concerned  that there is private VIN data available for the public. If this were a business this data would need to be protected and only provided to employees in which the VIN information was pertinent. \n",
    "  \n",
    "\n",
    "\n",
    "3. Is there anything you want to make note of for the next phase of your analysis, which is cleaning data? \n",
    "    \n",
    "    I'd like to make note of unnecessary data and columns that would need to be removed. I would like to further examine MSRP count and the Electrical Range."
   ]
  }
 ],
 "metadata": {
  "kernelspec": {
   "display_name": "Python 3",
   "language": "python",
   "name": "python3"
  },
  "language_info": {
   "codemirror_mode": {
    "name": "ipython",
    "version": 3
   },
   "file_extension": ".py",
   "mimetype": "text/x-python",
   "name": "python",
   "nbconvert_exporter": "python",
   "pygments_lexer": "ipython3",
   "version": "3.12.3"
  }
 },
 "nbformat": 4,
 "nbformat_minor": 2
}
